{
 "cells": [
  {
   "cell_type": "code",
   "execution_count": 3,
   "id": "5ecfcab8",
   "metadata": {
    "scrolled": true
   },
   "outputs": [
    {
     "name": "stderr",
     "output_type": "stream",
     "text": [
      "Some layers from the model checkpoint at bhadresh-savani/bert-base-uncased-emotion were not used when initializing TFBertForSequenceClassification: ['dropout_37']\n",
      "- This IS expected if you are initializing TFBertForSequenceClassification from the checkpoint of a model trained on another task or with another architecture (e.g. initializing a BertForSequenceClassification model from a BertForPreTraining model).\n",
      "- This IS NOT expected if you are initializing TFBertForSequenceClassification from the checkpoint of a model that you expect to be exactly identical (initializing a BertForSequenceClassification model from a BertForSequenceClassification model).\n",
      "All the layers of TFBertForSequenceClassification were initialized from the model checkpoint at bhadresh-savani/bert-base-uncased-emotion.\n",
      "If your task is similar to the task the model of the checkpoint was trained on, you can already use TFBertForSequenceClassification for predictions without further training.\n"
     ]
    },
    {
     "name": "stdout",
     "output_type": "stream",
     "text": [
      "[[{'label': 'sadness', 'score': 0.0005138245178386569}, {'label': 'joy', 'score': 0.9972521662712097}, {'label': 'love', 'score': 0.0007443317444995046}, {'label': 'anger', 'score': 0.0007404974312521517}, {'label': 'fear', 'score': 0.0003293862973805517}, {'label': 'surprise', 'score': 0.00041974990745075047}]]\n"
     ]
    }
   ],
   "source": [
    "from transformers import pipeline\n",
    "classifier = pipeline(\"text-classification\",model='bhadresh-savani/bert-base-uncased-emotion', return_all_scores=True)\n",
    "prediction = classifier(\"I love using transformers. The best part is wide range of support and its easy to use\")\n",
    "print(prediction)"
   ]
  },
  {
   "cell_type": "code",
   "execution_count": 19,
   "id": "c50401e9",
   "metadata": {},
   "outputs": [
    {
     "name": "stdout",
     "output_type": "stream",
     "text": [
      "[[{'label': 'sadness', 'score': 0.00042157882126048207}, {'label': 'joy', 'score': 0.9982692003250122}, {'label': 'love', 'score': 0.0005463726120069623}, {'label': 'anger', 'score': 0.00027859050896950066}, {'label': 'fear', 'score': 0.00021953429677523673}, {'label': 'surprise', 'score': 0.00026471493765711784}]]\n"
     ]
    }
   ],
   "source": [
    "t= '''\n",
    "When it comes to online reviews, a high star rating isn’t enough to set your business apart from the competition. Without written reviews, a star rating (no matter how high) falls flat. The average consumer spends 13 minutes and 45 seconds reading through reviews and review responses before making a decision. The right review response from your business can make a 5-star review even more powerful and minimize the damage of a negative one.\n",
    "Before we look at some positive review examples and talk about how your business can leave winning responses discover why online reputation management is crucial for your multi-location business in under 15 minutes! Hear 10 tips that can help each one of your locations get discovered online. By the end of this audio guide, you will know how to start collecting more reviews from customers in order to drive conversions! Reviews are important to businesses because they offer fast, authentic feedback from customers. Negative reviews can leave a bad taste in your mouth but there are ways you can deal with them and prevent brand reputation issues– like how some companies will only collect positive customer comments at each location rather than on the company level.\n",
    "'''\n",
    "\n",
    "prediction = classifier(t)\n",
    "print(prediction)"
   ]
  },
  {
   "cell_type": "markdown",
   "id": "1b0aa7d1",
   "metadata": {},
   "source": []
  },
  {
   "cell_type": "code",
   "execution_count": 22,
   "id": "38b8d83a",
   "metadata": {},
   "outputs": [
    {
     "data": {
      "text/plain": [
       "{'prediction': 'joy'}"
      ]
     },
     "execution_count": 22,
     "metadata": {},
     "output_type": "execute_result"
    }
   ],
   "source": [
    "import requests\n",
    "url ='http://localhost:8000/predict'\n",
    "params ={'text':\"I love using transformers. The best part is wide range of support and its easy to use\"}\n",
    "\n",
    "requests.get(url, params).json()"
   ]
  },
  {
   "cell_type": "code",
   "execution_count": 1,
   "id": "64d4ad81",
   "metadata": {},
   "outputs": [
    {
     "data": {
      "text/plain": [
       "{'prediction': 'joy'}"
      ]
     },
     "execution_count": 1,
     "metadata": {},
     "output_type": "execute_result"
    }
   ],
   "source": [
    "import requests\n",
    "url ='https://maikha-c7aaatrzsq-ew.a.run.app/predict'\n",
    "params ={'text':\"\"\"\n",
    "The following poems about happiness explore what it is to be happy in lots of forms, for lots of reasons – whether it’s brimming, bubbling happiness, quiet contentment, or something a little more complicated and bittersweet. There are poems that explore happiness in relationships, the fun of celebrations, the fierce happiness that we find when we discover our own power, the quiet contentment of fully experiencing the world around you, and the joy of playing with language. I hope that, however you’re feeling, they brighten your day.\"\"\"\n",
    "        \n",
    "}\n",
    "\n",
    "requests.get(url, params).json()"
   ]
  },
  {
   "cell_type": "code",
   "execution_count": null,
   "id": "80758697",
   "metadata": {},
   "outputs": [],
   "source": []
  }
 ],
 "metadata": {
  "kernelspec": {
   "display_name": "maikha",
   "language": "python",
   "name": "maikha"
  },
  "language_info": {
   "codemirror_mode": {
    "name": "ipython",
    "version": 3
   },
   "file_extension": ".py",
   "mimetype": "text/x-python",
   "name": "python",
   "nbconvert_exporter": "python",
   "pygments_lexer": "ipython3",
   "version": "3.10.2"
  },
  "toc": {
   "base_numbering": 1,
   "nav_menu": {},
   "number_sections": true,
   "sideBar": true,
   "skip_h1_title": false,
   "title_cell": "Table of Contents",
   "title_sidebar": "Contents",
   "toc_cell": false,
   "toc_position": {},
   "toc_section_display": true,
   "toc_window_display": false
  }
 },
 "nbformat": 4,
 "nbformat_minor": 5
}
